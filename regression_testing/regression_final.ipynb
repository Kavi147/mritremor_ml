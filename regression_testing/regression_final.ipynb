{
 "metadata": {
  "language_info": {
   "codemirror_mode": {
    "name": "ipython",
    "version": 3
   },
   "file_extension": ".py",
   "mimetype": "text/x-python",
   "name": "python",
   "nbconvert_exporter": "python",
   "pygments_lexer": "ipython3",
   "version": "3.8.3-final"
  },
  "orig_nbformat": 2,
  "kernelspec": {
   "name": "python3",
   "display_name": "Python 3",
   "language": "python"
  }
 },
 "nbformat": 4,
 "nbformat_minor": 2,
 "cells": [
  {
   "cell_type": "code",
   "execution_count": 9,
   "metadata": {},
   "outputs": [
    {
     "output_type": "execute_result",
     "data": {
      "text/plain": [
       "   Unnamed: 0_x  LabelValue   Volume        Mass  Patient  Unnamed: 0_y  \\\n",
       "0            13      1015.0  5806.25  246.695509     4698            18   \n",
       "1            13      1015.0  4981.25  174.169623     4701            14   \n",
       "2            13      1015.0  4782.50  103.709215     4708             2   \n",
       "3            13      1015.0  9405.00  403.323208     4710            19   \n",
       "4            13      1015.0  3853.75  124.373457     4713             0   \n",
       "\n",
       "   Gender   FirstName Code   MRI  ...  Speaking X Feeding other than liquds X  \\\n",
       "0       0  Anna-Maria   4y  4698  ...    0.000000                           2   \n",
       "1       1    Wolfgang   3y  4701  ...    0.333333                           2   \n",
       "2       1      Werner  14o  4708  ...    0.000000                           1   \n",
       "3       0      Janika   5y  4710  ...    0.333333                           0   \n",
       "4       1  Hans-Peter  10y  4713  ...    0.666667                           2   \n",
       "\n",
       "  Bringing liquods to mouth X  Hygiene X  Dressing X  Writing X  Working X  \\\n",
       "0                           4          0           1          2          1   \n",
       "1                           4          0           1          3          2   \n",
       "2                           1          0           0          1          0   \n",
       "3                           0          0           0          1          3   \n",
       "4                           2          0           0          4          2   \n",
       "\n",
       "       Sum X      Right       Left  \n",
       "0  31.000000  11.000000  11.666667  \n",
       "1  39.333333  15.666667  13.000000  \n",
       "2  21.333333   7.333333  10.666667  \n",
       "3  21.333333   9.666667   8.000000  \n",
       "4  28.000000   7.333333  10.333333  \n",
       "\n",
       "[5 rows x 65 columns]"
      ],
      "text/html": "<div>\n<style scoped>\n    .dataframe tbody tr th:only-of-type {\n        vertical-align: middle;\n    }\n\n    .dataframe tbody tr th {\n        vertical-align: top;\n    }\n\n    .dataframe thead th {\n        text-align: right;\n    }\n</style>\n<table border=\"1\" class=\"dataframe\">\n  <thead>\n    <tr style=\"text-align: right;\">\n      <th></th>\n      <th>Unnamed: 0_x</th>\n      <th>LabelValue</th>\n      <th>Volume</th>\n      <th>Mass</th>\n      <th>Patient</th>\n      <th>Unnamed: 0_y</th>\n      <th>Gender</th>\n      <th>FirstName</th>\n      <th>Code</th>\n      <th>MRI</th>\n      <th>...</th>\n      <th>Speaking X</th>\n      <th>Feeding other than liquds X</th>\n      <th>Bringing liquods to mouth X</th>\n      <th>Hygiene X</th>\n      <th>Dressing X</th>\n      <th>Writing X</th>\n      <th>Working X</th>\n      <th>Sum X</th>\n      <th>Right</th>\n      <th>Left</th>\n    </tr>\n  </thead>\n  <tbody>\n    <tr>\n      <th>0</th>\n      <td>13</td>\n      <td>1015.0</td>\n      <td>5806.25</td>\n      <td>246.695509</td>\n      <td>4698</td>\n      <td>18</td>\n      <td>0</td>\n      <td>Anna-Maria</td>\n      <td>4y</td>\n      <td>4698</td>\n      <td>...</td>\n      <td>0.000000</td>\n      <td>2</td>\n      <td>4</td>\n      <td>0</td>\n      <td>1</td>\n      <td>2</td>\n      <td>1</td>\n      <td>31.000000</td>\n      <td>11.000000</td>\n      <td>11.666667</td>\n    </tr>\n    <tr>\n      <th>1</th>\n      <td>13</td>\n      <td>1015.0</td>\n      <td>4981.25</td>\n      <td>174.169623</td>\n      <td>4701</td>\n      <td>14</td>\n      <td>1</td>\n      <td>Wolfgang</td>\n      <td>3y</td>\n      <td>4701</td>\n      <td>...</td>\n      <td>0.333333</td>\n      <td>2</td>\n      <td>4</td>\n      <td>0</td>\n      <td>1</td>\n      <td>3</td>\n      <td>2</td>\n      <td>39.333333</td>\n      <td>15.666667</td>\n      <td>13.000000</td>\n    </tr>\n    <tr>\n      <th>2</th>\n      <td>13</td>\n      <td>1015.0</td>\n      <td>4782.50</td>\n      <td>103.709215</td>\n      <td>4708</td>\n      <td>2</td>\n      <td>1</td>\n      <td>Werner</td>\n      <td>14o</td>\n      <td>4708</td>\n      <td>...</td>\n      <td>0.000000</td>\n      <td>1</td>\n      <td>1</td>\n      <td>0</td>\n      <td>0</td>\n      <td>1</td>\n      <td>0</td>\n      <td>21.333333</td>\n      <td>7.333333</td>\n      <td>10.666667</td>\n    </tr>\n    <tr>\n      <th>3</th>\n      <td>13</td>\n      <td>1015.0</td>\n      <td>9405.00</td>\n      <td>403.323208</td>\n      <td>4710</td>\n      <td>19</td>\n      <td>0</td>\n      <td>Janika</td>\n      <td>5y</td>\n      <td>4710</td>\n      <td>...</td>\n      <td>0.333333</td>\n      <td>0</td>\n      <td>0</td>\n      <td>0</td>\n      <td>0</td>\n      <td>1</td>\n      <td>3</td>\n      <td>21.333333</td>\n      <td>9.666667</td>\n      <td>8.000000</td>\n    </tr>\n    <tr>\n      <th>4</th>\n      <td>13</td>\n      <td>1015.0</td>\n      <td>3853.75</td>\n      <td>124.373457</td>\n      <td>4713</td>\n      <td>0</td>\n      <td>1</td>\n      <td>Hans-Peter</td>\n      <td>10y</td>\n      <td>4713</td>\n      <td>...</td>\n      <td>0.666667</td>\n      <td>2</td>\n      <td>2</td>\n      <td>0</td>\n      <td>0</td>\n      <td>4</td>\n      <td>2</td>\n      <td>28.000000</td>\n      <td>7.333333</td>\n      <td>10.333333</td>\n    </tr>\n  </tbody>\n</table>\n<p>5 rows × 65 columns</p>\n</div>"
     },
     "metadata": {},
     "execution_count": 9
    }
   ],
   "source": [
    "import numpy as np\n",
    "import pandas as pd\n",
    "from sklearn.linear_model import LinearRegression\n",
    "import plotly.express as px\n",
    "import plotly.graph_objects as go\n",
    "import matplotlib.pyplot as plt\n",
    "\n",
    "patients_data = pd.read_csv('merged_data.csv')\n",
    "labelValues = pd.read_csv('full_patient_data.csv')\n",
    "\n",
    "LABEL_VALUE = 1015\n",
    "\n",
    "selected_label_values = labelValues[labelValues['LabelValue'] == LABEL_VALUE]\n",
    "\n",
    "lv_with_patients = pd.merge(selected_label_values, patients_data, left_on='Patient', right_on='MRI')\n",
    "\n",
    "lv_with_patients.head(5)"
   ]
  },
  {
   "source": [
    "## Plot the paramters with regression fit using ploty express\n",
    "\n",
    "### Using X: Age, and Y: Mass"
   ],
   "cell_type": "markdown",
   "metadata": {}
  },
  {
   "cell_type": "code",
   "execution_count": 10,
   "metadata": {},
   "outputs": [
    {
     "output_type": "display_data",
     "data": {
      "application/vnd.plotly.v1+json": {
       "config": {
        "plotlyServerURL": "https://plot.ly"
       },
       "data": [
        {
         "hovertemplate": "Right upper extremity tremor Act/Int=%{x}<br>Mass=%{y}<extra></extra>",
         "legendgroup": "",
         "marker": {
          "color": "#636efa",
          "symbol": "circle"
         },
         "mode": "markers",
         "name": "",
         "orientation": "v",
         "showlegend": false,
         "type": "scatter",
         "x": [
          0.6666666666666666,
          2,
          1,
          1.6666666666666667,
          1,
          0.3333333333333333,
          1,
          3.333333333333333,
          1,
          0,
          1,
          0.6666666666666666,
          1.3333333333333333,
          1,
          0.3333333333333333,
          0.3333333333333333,
          0.3333333333333333,
          0.3333333333333333,
          0.3333333333333333
         ],
         "xaxis": "x",
         "y": [
          246.69550901697949,
          174.16962280264127,
          103.70921523938887,
          403.3232075236738,
          124.37345707276836,
          347.65577850444237,
          290.63391373492783,
          95.28108637081459,
          132.49464947066735,
          212.50404975470158,
          404.390916489996,
          418.34835096728057,
          282.7110277917236,
          283.49789626104763,
          118.03086561150849,
          252.84152297070253,
          285.0799324531108,
          303.2454832661897,
          141.55809134687297
         ],
         "yaxis": "y"
        },
        {
         "hovertemplate": "<b>OLS trendline</b><br>Mass = -29.2657 * Right upper extremity tremor Act/Int + 270.399<br>R<sup>2</sup>=0.045429<br><br>Right upper extremity tremor Act/Int=%{x}<br>Mass=%{y} <b>(trend)</b><extra></extra>",
         "legendgroup": "",
         "line": {
          "color": "red"
         },
         "marker": {
          "color": "#636efa",
          "symbol": "circle"
         },
         "mode": "lines",
         "name": "",
         "showlegend": false,
         "type": "scatter",
         "x": [
          0,
          0.3333333333333333,
          0.3333333333333333,
          0.3333333333333333,
          0.3333333333333333,
          0.3333333333333333,
          0.3333333333333333,
          0.6666666666666666,
          0.6666666666666666,
          1,
          1,
          1,
          1,
          1,
          1,
          1.3333333333333333,
          1.6666666666666667,
          2,
          3.333333333333333
         ],
         "xaxis": "x",
         "y": [
          270.3985601313932,
          260.6433136059775,
          260.6433136059775,
          260.6433136059775,
          260.6433136059775,
          260.6433136059775,
          260.6433136059775,
          250.8880670805618,
          250.8880670805618,
          241.1328205551461,
          241.1328205551461,
          241.1328205551461,
          241.1328205551461,
          241.1328205551461,
          241.1328205551461,
          231.37757402973043,
          221.6223275043147,
          211.86708097889903,
          172.84609487723625
         ],
         "yaxis": "y"
        }
       ],
       "layout": {
        "legend": {
         "tracegroupgap": 0
        },
        "template": {
         "data": {
          "bar": [
           {
            "error_x": {
             "color": "#2a3f5f"
            },
            "error_y": {
             "color": "#2a3f5f"
            },
            "marker": {
             "line": {
              "color": "#E5ECF6",
              "width": 0.5
             }
            },
            "type": "bar"
           }
          ],
          "barpolar": [
           {
            "marker": {
             "line": {
              "color": "#E5ECF6",
              "width": 0.5
             }
            },
            "type": "barpolar"
           }
          ],
          "carpet": [
           {
            "aaxis": {
             "endlinecolor": "#2a3f5f",
             "gridcolor": "white",
             "linecolor": "white",
             "minorgridcolor": "white",
             "startlinecolor": "#2a3f5f"
            },
            "baxis": {
             "endlinecolor": "#2a3f5f",
             "gridcolor": "white",
             "linecolor": "white",
             "minorgridcolor": "white",
             "startlinecolor": "#2a3f5f"
            },
            "type": "carpet"
           }
          ],
          "choropleth": [
           {
            "colorbar": {
             "outlinewidth": 0,
             "ticks": ""
            },
            "type": "choropleth"
           }
          ],
          "contour": [
           {
            "colorbar": {
             "outlinewidth": 0,
             "ticks": ""
            },
            "colorscale": [
             [
              0,
              "#0d0887"
             ],
             [
              0.1111111111111111,
              "#46039f"
             ],
             [
              0.2222222222222222,
              "#7201a8"
             ],
             [
              0.3333333333333333,
              "#9c179e"
             ],
             [
              0.4444444444444444,
              "#bd3786"
             ],
             [
              0.5555555555555556,
              "#d8576b"
             ],
             [
              0.6666666666666666,
              "#ed7953"
             ],
             [
              0.7777777777777778,
              "#fb9f3a"
             ],
             [
              0.8888888888888888,
              "#fdca26"
             ],
             [
              1,
              "#f0f921"
             ]
            ],
            "type": "contour"
           }
          ],
          "contourcarpet": [
           {
            "colorbar": {
             "outlinewidth": 0,
             "ticks": ""
            },
            "type": "contourcarpet"
           }
          ],
          "heatmap": [
           {
            "colorbar": {
             "outlinewidth": 0,
             "ticks": ""
            },
            "colorscale": [
             [
              0,
              "#0d0887"
             ],
             [
              0.1111111111111111,
              "#46039f"
             ],
             [
              0.2222222222222222,
              "#7201a8"
             ],
             [
              0.3333333333333333,
              "#9c179e"
             ],
             [
              0.4444444444444444,
              "#bd3786"
             ],
             [
              0.5555555555555556,
              "#d8576b"
             ],
             [
              0.6666666666666666,
              "#ed7953"
             ],
             [
              0.7777777777777778,
              "#fb9f3a"
             ],
             [
              0.8888888888888888,
              "#fdca26"
             ],
             [
              1,
              "#f0f921"
             ]
            ],
            "type": "heatmap"
           }
          ],
          "heatmapgl": [
           {
            "colorbar": {
             "outlinewidth": 0,
             "ticks": ""
            },
            "colorscale": [
             [
              0,
              "#0d0887"
             ],
             [
              0.1111111111111111,
              "#46039f"
             ],
             [
              0.2222222222222222,
              "#7201a8"
             ],
             [
              0.3333333333333333,
              "#9c179e"
             ],
             [
              0.4444444444444444,
              "#bd3786"
             ],
             [
              0.5555555555555556,
              "#d8576b"
             ],
             [
              0.6666666666666666,
              "#ed7953"
             ],
             [
              0.7777777777777778,
              "#fb9f3a"
             ],
             [
              0.8888888888888888,
              "#fdca26"
             ],
             [
              1,
              "#f0f921"
             ]
            ],
            "type": "heatmapgl"
           }
          ],
          "histogram": [
           {
            "marker": {
             "colorbar": {
              "outlinewidth": 0,
              "ticks": ""
             }
            },
            "type": "histogram"
           }
          ],
          "histogram2d": [
           {
            "colorbar": {
             "outlinewidth": 0,
             "ticks": ""
            },
            "colorscale": [
             [
              0,
              "#0d0887"
             ],
             [
              0.1111111111111111,
              "#46039f"
             ],
             [
              0.2222222222222222,
              "#7201a8"
             ],
             [
              0.3333333333333333,
              "#9c179e"
             ],
             [
              0.4444444444444444,
              "#bd3786"
             ],
             [
              0.5555555555555556,
              "#d8576b"
             ],
             [
              0.6666666666666666,
              "#ed7953"
             ],
             [
              0.7777777777777778,
              "#fb9f3a"
             ],
             [
              0.8888888888888888,
              "#fdca26"
             ],
             [
              1,
              "#f0f921"
             ]
            ],
            "type": "histogram2d"
           }
          ],
          "histogram2dcontour": [
           {
            "colorbar": {
             "outlinewidth": 0,
             "ticks": ""
            },
            "colorscale": [
             [
              0,
              "#0d0887"
             ],
             [
              0.1111111111111111,
              "#46039f"
             ],
             [
              0.2222222222222222,
              "#7201a8"
             ],
             [
              0.3333333333333333,
              "#9c179e"
             ],
             [
              0.4444444444444444,
              "#bd3786"
             ],
             [
              0.5555555555555556,
              "#d8576b"
             ],
             [
              0.6666666666666666,
              "#ed7953"
             ],
             [
              0.7777777777777778,
              "#fb9f3a"
             ],
             [
              0.8888888888888888,
              "#fdca26"
             ],
             [
              1,
              "#f0f921"
             ]
            ],
            "type": "histogram2dcontour"
           }
          ],
          "mesh3d": [
           {
            "colorbar": {
             "outlinewidth": 0,
             "ticks": ""
            },
            "type": "mesh3d"
           }
          ],
          "parcoords": [
           {
            "line": {
             "colorbar": {
              "outlinewidth": 0,
              "ticks": ""
             }
            },
            "type": "parcoords"
           }
          ],
          "pie": [
           {
            "automargin": true,
            "type": "pie"
           }
          ],
          "scatter": [
           {
            "marker": {
             "colorbar": {
              "outlinewidth": 0,
              "ticks": ""
             }
            },
            "type": "scatter"
           }
          ],
          "scatter3d": [
           {
            "line": {
             "colorbar": {
              "outlinewidth": 0,
              "ticks": ""
             }
            },
            "marker": {
             "colorbar": {
              "outlinewidth": 0,
              "ticks": ""
             }
            },
            "type": "scatter3d"
           }
          ],
          "scattercarpet": [
           {
            "marker": {
             "colorbar": {
              "outlinewidth": 0,
              "ticks": ""
             }
            },
            "type": "scattercarpet"
           }
          ],
          "scattergeo": [
           {
            "marker": {
             "colorbar": {
              "outlinewidth": 0,
              "ticks": ""
             }
            },
            "type": "scattergeo"
           }
          ],
          "scattergl": [
           {
            "marker": {
             "colorbar": {
              "outlinewidth": 0,
              "ticks": ""
             }
            },
            "type": "scattergl"
           }
          ],
          "scattermapbox": [
           {
            "marker": {
             "colorbar": {
              "outlinewidth": 0,
              "ticks": ""
             }
            },
            "type": "scattermapbox"
           }
          ],
          "scatterpolar": [
           {
            "marker": {
             "colorbar": {
              "outlinewidth": 0,
              "ticks": ""
             }
            },
            "type": "scatterpolar"
           }
          ],
          "scatterpolargl": [
           {
            "marker": {
             "colorbar": {
              "outlinewidth": 0,
              "ticks": ""
             }
            },
            "type": "scatterpolargl"
           }
          ],
          "scatterternary": [
           {
            "marker": {
             "colorbar": {
              "outlinewidth": 0,
              "ticks": ""
             }
            },
            "type": "scatterternary"
           }
          ],
          "surface": [
           {
            "colorbar": {
             "outlinewidth": 0,
             "ticks": ""
            },
            "colorscale": [
             [
              0,
              "#0d0887"
             ],
             [
              0.1111111111111111,
              "#46039f"
             ],
             [
              0.2222222222222222,
              "#7201a8"
             ],
             [
              0.3333333333333333,
              "#9c179e"
             ],
             [
              0.4444444444444444,
              "#bd3786"
             ],
             [
              0.5555555555555556,
              "#d8576b"
             ],
             [
              0.6666666666666666,
              "#ed7953"
             ],
             [
              0.7777777777777778,
              "#fb9f3a"
             ],
             [
              0.8888888888888888,
              "#fdca26"
             ],
             [
              1,
              "#f0f921"
             ]
            ],
            "type": "surface"
           }
          ],
          "table": [
           {
            "cells": {
             "fill": {
              "color": "#EBF0F8"
             },
             "line": {
              "color": "white"
             }
            },
            "header": {
             "fill": {
              "color": "#C8D4E3"
             },
             "line": {
              "color": "white"
             }
            },
            "type": "table"
           }
          ]
         },
         "layout": {
          "annotationdefaults": {
           "arrowcolor": "#2a3f5f",
           "arrowhead": 0,
           "arrowwidth": 1
          },
          "coloraxis": {
           "colorbar": {
            "outlinewidth": 0,
            "ticks": ""
           }
          },
          "colorscale": {
           "diverging": [
            [
             0,
             "#8e0152"
            ],
            [
             0.1,
             "#c51b7d"
            ],
            [
             0.2,
             "#de77ae"
            ],
            [
             0.3,
             "#f1b6da"
            ],
            [
             0.4,
             "#fde0ef"
            ],
            [
             0.5,
             "#f7f7f7"
            ],
            [
             0.6,
             "#e6f5d0"
            ],
            [
             0.7,
             "#b8e186"
            ],
            [
             0.8,
             "#7fbc41"
            ],
            [
             0.9,
             "#4d9221"
            ],
            [
             1,
             "#276419"
            ]
           ],
           "sequential": [
            [
             0,
             "#0d0887"
            ],
            [
             0.1111111111111111,
             "#46039f"
            ],
            [
             0.2222222222222222,
             "#7201a8"
            ],
            [
             0.3333333333333333,
             "#9c179e"
            ],
            [
             0.4444444444444444,
             "#bd3786"
            ],
            [
             0.5555555555555556,
             "#d8576b"
            ],
            [
             0.6666666666666666,
             "#ed7953"
            ],
            [
             0.7777777777777778,
             "#fb9f3a"
            ],
            [
             0.8888888888888888,
             "#fdca26"
            ],
            [
             1,
             "#f0f921"
            ]
           ],
           "sequentialminus": [
            [
             0,
             "#0d0887"
            ],
            [
             0.1111111111111111,
             "#46039f"
            ],
            [
             0.2222222222222222,
             "#7201a8"
            ],
            [
             0.3333333333333333,
             "#9c179e"
            ],
            [
             0.4444444444444444,
             "#bd3786"
            ],
            [
             0.5555555555555556,
             "#d8576b"
            ],
            [
             0.6666666666666666,
             "#ed7953"
            ],
            [
             0.7777777777777778,
             "#fb9f3a"
            ],
            [
             0.8888888888888888,
             "#fdca26"
            ],
            [
             1,
             "#f0f921"
            ]
           ]
          },
          "colorway": [
           "#636efa",
           "#EF553B",
           "#00cc96",
           "#ab63fa",
           "#FFA15A",
           "#19d3f3",
           "#FF6692",
           "#B6E880",
           "#FF97FF",
           "#FECB52"
          ],
          "font": {
           "color": "#2a3f5f"
          },
          "geo": {
           "bgcolor": "white",
           "lakecolor": "white",
           "landcolor": "#E5ECF6",
           "showlakes": true,
           "showland": true,
           "subunitcolor": "white"
          },
          "hoverlabel": {
           "align": "left"
          },
          "hovermode": "closest",
          "mapbox": {
           "style": "light"
          },
          "paper_bgcolor": "white",
          "plot_bgcolor": "#E5ECF6",
          "polar": {
           "angularaxis": {
            "gridcolor": "white",
            "linecolor": "white",
            "ticks": ""
           },
           "bgcolor": "#E5ECF6",
           "radialaxis": {
            "gridcolor": "white",
            "linecolor": "white",
            "ticks": ""
           }
          },
          "scene": {
           "xaxis": {
            "backgroundcolor": "#E5ECF6",
            "gridcolor": "white",
            "gridwidth": 2,
            "linecolor": "white",
            "showbackground": true,
            "ticks": "",
            "zerolinecolor": "white"
           },
           "yaxis": {
            "backgroundcolor": "#E5ECF6",
            "gridcolor": "white",
            "gridwidth": 2,
            "linecolor": "white",
            "showbackground": true,
            "ticks": "",
            "zerolinecolor": "white"
           },
           "zaxis": {
            "backgroundcolor": "#E5ECF6",
            "gridcolor": "white",
            "gridwidth": 2,
            "linecolor": "white",
            "showbackground": true,
            "ticks": "",
            "zerolinecolor": "white"
           }
          },
          "shapedefaults": {
           "line": {
            "color": "#2a3f5f"
           }
          },
          "ternary": {
           "aaxis": {
            "gridcolor": "white",
            "linecolor": "white",
            "ticks": ""
           },
           "baxis": {
            "gridcolor": "white",
            "linecolor": "white",
            "ticks": ""
           },
           "bgcolor": "#E5ECF6",
           "caxis": {
            "gridcolor": "white",
            "linecolor": "white",
            "ticks": ""
           }
          },
          "title": {
           "x": 0.05
          },
          "xaxis": {
           "automargin": true,
           "gridcolor": "white",
           "linecolor": "white",
           "ticks": "",
           "title": {
            "standoff": 15
           },
           "zerolinecolor": "white",
           "zerolinewidth": 2
          },
          "yaxis": {
           "automargin": true,
           "gridcolor": "white",
           "linecolor": "white",
           "ticks": "",
           "title": {
            "standoff": 15
           },
           "zerolinecolor": "white",
           "zerolinewidth": 2
          }
         }
        },
        "title": {
         "text": "Label Value of 1015"
        },
        "xaxis": {
         "anchor": "y",
         "domain": [
          0,
          1
         ],
         "title": {
          "text": "Right upper extremity tremor Act/Int"
         }
        },
        "yaxis": {
         "anchor": "x",
         "domain": [
          0,
          1
         ],
         "title": {
          "text": "Mass"
         }
        }
       }
      }
     },
     "metadata": {}
    }
   ],
   "source": [
    "X_AXIS = 'Right upper extremity tremor Act/Int'\n",
    "Y_AXIS = 'Mass'\n",
    "figure = px.scatter(lv_with_patients, x=X_AXIS, y=Y_AXIS, \n",
    "                title=f'Label Value of {LABEL_VALUE}', trendline='ols', trendline_color_override='red')\n",
    "figure.show()"
   ]
  },
  {
   "source": [
    "## calculate regression fit data using sklearn\n"
   ],
   "cell_type": "markdown",
   "metadata": {}
  },
  {
   "cell_type": "code",
   "execution_count": 11,
   "metadata": {},
   "outputs": [
    {
     "output_type": "execute_result",
     "data": {
      "text/plain": [
       "array([  -22.25883563,   -44.42985046,   -66.60086529,   -88.77188012,\n",
       "        -110.94289495,  -133.11390978,  -155.28492461,  -177.45593944,\n",
       "        -199.62695427,  -221.79796911,  -243.96898394,  -266.13999877,\n",
       "        -288.3110136 ,  -310.48202843,  -332.65304326,  -354.82405809,\n",
       "        -376.99507292,  -399.16608775,  -421.33710258,  -443.50811741,\n",
       "        -465.67913224,  -487.85014707,  -510.0211619 ,  -532.19217673,\n",
       "        -554.36319156,  -576.53420639,  -598.70522122,  -620.87623605,\n",
       "        -643.04725088,  -665.21826572,  -687.38928055,  -709.56029538,\n",
       "        -731.73131021,  -753.90232504,  -776.07333987,  -798.2443547 ,\n",
       "        -820.41536953,  -842.58638436,  -864.75739919,  -886.92841402,\n",
       "        -909.09942885,  -931.27044368,  -953.44145851,  -975.61247334,\n",
       "        -997.78348817, -1019.954503  , -1042.12551783, -1064.29653266,\n",
       "       -1086.46754749, -1108.63856233, -1130.80957716, -1152.98059199,\n",
       "       -1175.15160682, -1197.32262165, -1219.49363648, -1241.66465131,\n",
       "       -1263.83566614, -1286.00668097, -1308.1776958 , -1330.34871063,\n",
       "       -1352.51972546, -1374.69074029, -1396.86175512, -1419.03276995,\n",
       "       -1441.20378478, -1463.37479961, -1485.54581444, -1507.71682927,\n",
       "       -1529.8878441 , -1552.05885893, -1574.22987377, -1596.4008886 ,\n",
       "       -1618.57190343, -1640.74291826, -1662.91393309, -1685.08494792,\n",
       "       -1707.25596275, -1729.42697758, -1751.59799241, -1773.76900724,\n",
       "       -1795.94002207, -1818.1110369 , -1840.28205173, -1862.45306656,\n",
       "       -1884.62408139, -1906.79509622, -1928.96611105, -1951.13712588,\n",
       "       -1973.30814071, -1995.47915554, -2017.65017038, -2039.82118521,\n",
       "       -2061.99220004, -2084.16321487, -2106.3342297 , -2128.50524453,\n",
       "       -2150.67625936, -2172.84727419, -2195.01828902, -2217.18930385])"
      ]
     },
     "metadata": {},
     "execution_count": 11
    }
   ],
   "source": [
    "\n",
    "X = lv_with_patients[[X_AXIS]]\n",
    "Y = lv_with_patients[[Y_AXIS]]\n",
    "\n",
    "model = LinearRegression()\n",
    "model.fit(X,Y)\n",
    "\n",
    "# lets predict for some values\n",
    "X_range = np.linspace(10, 85, 100)\n",
    "Y_range = model.predict(X_range.reshape(-1, 1))\n",
    "\n",
    "Y_range.flatten() # shows the value for the ages between 10, and 85"
   ]
  },
  {
   "cell_type": "code",
   "execution_count": null,
   "metadata": {},
   "outputs": [],
   "source": []
  }
 ]
}