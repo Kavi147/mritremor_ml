{
 "metadata": {
  "language_info": {
   "codemirror_mode": {
    "name": "ipython",
    "version": 3
   },
   "file_extension": ".py",
   "mimetype": "text/x-python",
   "name": "python",
   "nbconvert_exporter": "python",
   "pygments_lexer": "ipython3",
   "version": "3.8.5"
  },
  "orig_nbformat": 2,
  "kernelspec": {
   "name": "python3",
   "display_name": "Python 3",
   "language": "python"
  }
 },
 "nbformat": 4,
 "nbformat_minor": 2,
 "cells": [
  {
   "cell_type": "code",
   "execution_count": 2,
   "metadata": {},
   "outputs": [],
   "source": [
    "import pandas as pd\n",
    "import plotly.express as px\n",
    "import os\n",
    "\n",
    "ROOT_DIR = 'Patients'\n",
    "\n",
    "all_patients = os.listdir(f'{ROOT_DIR}')\n",
    "\n",
    "volumeData = []\n",
    "columns = ['Patient', 'LabelValue', 'Volume', 'Mass']\n",
    "\n",
    "# looping through all the files to get the labelValue and then Volume\n",
    "# so we can build a dataframe with this data for further processing\n",
    "for _file in all_patients:\n",
    "    patient_id = _file.split(\".\")[0][5:-1] # ex: s3571P\n",
    "    \n",
    "    # read the csv file into df\n",
    "    df = pd.read_csv(f'{ROOT_DIR}/{_file}')\n",
    "    \n",
    "    df = df.drop(0)\n",
    "\n",
    "    _filtered_df = df[['LabelValue', 'Volume', 'Mass']]\n",
    "    _filtered_df['Patient'] = patient_id\n",
    "\n",
    "    volumeData.append(_filtered_df)\n",
    "\n",
    "\n",
    "# now we have all \n",
    "fullData = pd.concat(volumeData, axis=0)\n",
    "\n",
    "fullData.to_csv('full_patient_data.csv')"
   ]
  },
  {
   "cell_type": "code",
   "execution_count": 4,
   "metadata": {},
   "outputs": [
    {
     "output_type": "execute_result",
     "data": {
      "text/plain": [
       "    LabelValue   MeanVolume    MeanMass\n",
       "0       1002.0   607.321429   10.286362\n",
       "1       1003.0  2224.285714   57.052762\n",
       "2       1005.0  1380.000000   25.586834\n",
       "3       1006.0  1903.452381   30.759458\n",
       "4       1007.0  6333.869048  168.857338\n",
       "..         ...          ...         ...\n",
       "57      2029.0  5700.178571  139.876628\n",
       "58      2030.0  6669.285714  204.921092\n",
       "59      2031.0  3904.583333  108.981001\n",
       "60      2034.0   258.392857    3.647261\n",
       "61      2035.0  1146.369048   19.796631\n",
       "\n",
       "[62 rows x 3 columns]"
      ],
      "text/html": "<div>\n<style scoped>\n    .dataframe tbody tr th:only-of-type {\n        vertical-align: middle;\n    }\n\n    .dataframe tbody tr th {\n        vertical-align: top;\n    }\n\n    .dataframe thead th {\n        text-align: right;\n    }\n</style>\n<table border=\"1\" class=\"dataframe\">\n  <thead>\n    <tr style=\"text-align: right;\">\n      <th></th>\n      <th>LabelValue</th>\n      <th>MeanVolume</th>\n      <th>MeanMass</th>\n    </tr>\n  </thead>\n  <tbody>\n    <tr>\n      <th>0</th>\n      <td>1002.0</td>\n      <td>607.321429</td>\n      <td>10.286362</td>\n    </tr>\n    <tr>\n      <th>1</th>\n      <td>1003.0</td>\n      <td>2224.285714</td>\n      <td>57.052762</td>\n    </tr>\n    <tr>\n      <th>2</th>\n      <td>1005.0</td>\n      <td>1380.000000</td>\n      <td>25.586834</td>\n    </tr>\n    <tr>\n      <th>3</th>\n      <td>1006.0</td>\n      <td>1903.452381</td>\n      <td>30.759458</td>\n    </tr>\n    <tr>\n      <th>4</th>\n      <td>1007.0</td>\n      <td>6333.869048</td>\n      <td>168.857338</td>\n    </tr>\n    <tr>\n      <th>...</th>\n      <td>...</td>\n      <td>...</td>\n      <td>...</td>\n    </tr>\n    <tr>\n      <th>57</th>\n      <td>2029.0</td>\n      <td>5700.178571</td>\n      <td>139.876628</td>\n    </tr>\n    <tr>\n      <th>58</th>\n      <td>2030.0</td>\n      <td>6669.285714</td>\n      <td>204.921092</td>\n    </tr>\n    <tr>\n      <th>59</th>\n      <td>2031.0</td>\n      <td>3904.583333</td>\n      <td>108.981001</td>\n    </tr>\n    <tr>\n      <th>60</th>\n      <td>2034.0</td>\n      <td>258.392857</td>\n      <td>3.647261</td>\n    </tr>\n    <tr>\n      <th>61</th>\n      <td>2035.0</td>\n      <td>1146.369048</td>\n      <td>19.796631</td>\n    </tr>\n  </tbody>\n</table>\n<p>62 rows × 3 columns</p>\n</div>"
     },
     "metadata": {},
     "execution_count": 4
    }
   ],
   "source": [
    "df = pd.read_csv('full_patient_data.csv')\n",
    "\n",
    "labelValues = df.LabelValue.unique()\n",
    "\n",
    "meanValues = {\n",
    "    'LabelValue': [],\n",
    "    'MeanVolume': [],\n",
    "    'MeanMass': [],\n",
    "}\n",
    "\n",
    "for val in labelValues:\n",
    "\n",
    "    selected = df[df['LabelValue'] == val]\n",
    "    meanValues['LabelValue'].append(val)\n",
    "    meanValues['MeanVolume'].append(selected['Volume'].mean())\n",
    "    meanValues['MeanMass'].append(selected['Mass'].mean())\n",
    "\n",
    "meanValuesDf = pd.DataFrame(meanValues)\n",
    "\n",
    "meanValuesDf.to_csv('all_patients_mean_values.csv')\n",
    "meanValuesDf"
   ]
  },
  {
   "cell_type": "code",
   "execution_count": null,
   "metadata": {},
   "outputs": [],
   "source": []
  }
 ]
}