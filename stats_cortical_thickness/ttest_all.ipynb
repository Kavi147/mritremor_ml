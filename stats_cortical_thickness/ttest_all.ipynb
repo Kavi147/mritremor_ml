{
 "metadata": {
  "language_info": {
   "codemirror_mode": {
    "name": "ipython",
    "version": 3
   },
   "file_extension": ".py",
   "mimetype": "text/x-python",
   "name": "python",
   "nbconvert_exporter": "python",
   "pygments_lexer": "ipython3",
   "version": "3.8.5-final"
  },
  "orig_nbformat": 2,
  "kernelspec": {
   "name": "python3",
   "display_name": "Python 3",
   "language": "python"
  }
 },
 "nbformat": 4,
 "nbformat_minor": 2,
 "cells": [
  {
   "cell_type": "code",
   "execution_count": 1,
   "metadata": {},
   "outputs": [
    {
     "output_type": "execute_result",
     "data": {
      "text/plain": [
       "array([1002., 1003., 1005., 1006., 1007., 1008., 1009., 1010., 1011.,\n",
       "       1012., 1013., 1014., 1015., 1016., 1017., 1018., 1019., 1020.,\n",
       "       1021., 1022., 1023., 1024., 1025., 1026., 1027., 1028., 1029.,\n",
       "       1030., 1031., 1034., 1035., 2002., 2003., 2005., 2006., 2007.,\n",
       "       2008., 2009., 2010., 2011., 2012., 2013., 2014., 2015., 2016.,\n",
       "       2017., 2018., 2019., 2020., 2021., 2022., 2023., 2024., 2025.,\n",
       "       2026., 2027., 2028., 2029., 2030., 2031., 2034., 2035.])"
      ]
     },
     "metadata": {},
     "execution_count": 1
    }
   ],
   "source": [
    "import pandas as pd\n",
    "from scipy.stats import ttest_ind\n",
    "import plotly.express as px\n",
    "\n",
    "\n",
    "patientDf = pd.read_csv('full_patient_data.csv')\n",
    "controlDf = pd.read_csv('full_control_data.csv')\n",
    "\n",
    "labelValues = patientDf['LabelValue'].unique()\n",
    "\n",
    "labelValues"
   ]
  },
  {
   "cell_type": "code",
   "execution_count": 2,
   "metadata": {},
   "outputs": [],
   "source": [
    "data = {\n",
    "    'LabelValue': [],\n",
    "    'Volume: Statistics': [],\n",
    "    'Volume: p': [],\n",
    "    'Volume: Diff Dist': [],\n",
    "    'Volume: Reason': [],\n",
    "    'Mass: Statistics': [],\n",
    "    'Mass: p': [],\n",
    "    'Mass: Diff Dist': [],\n",
    "    'Mass: Reason': [],\n",
    "}\n",
    "\n",
    "for value in labelValues:\n",
    "    pDf = patientDf[patientDf['LabelValue'] == value]\n",
    "    cDf = controlDf[controlDf['LabelValue'] == value]\n",
    "\n",
    "    volumeStats, volumeP = ttest_ind(pDf['Volume'], cDf['Volume'])\n",
    "    massStats, massP = ttest_ind(pDf['Mass'], cDf['Mass'])\n",
    "\n",
    "    data['LabelValue'].append(value)\n",
    "\n",
    "    data['Volume: Statistics'].append(volumeStats)\n",
    "    data['Volume: p'].append(volumeP)\n",
    "    data['Mass: Statistics'].append(massStats)\n",
    "    data['Mass: p'].append(massP)\n",
    "\n",
    "    if volumeP > 0.05:\n",
    "        data['Volume: Diff Dist'].append('False')\n",
    "        data['Volume: Reason'].append('Accept H0: Same Distribution')\n",
    "    else:\n",
    "        data['Volume: Diff Dist'].append('True')\n",
    "        data['Volume: Reason'].append('Reject H0: Different distribution')\n",
    "\n",
    "    if massP > 0.05:\n",
    "        data['Mass: Diff Dist'].append('False')\n",
    "        data['Mass: Reason'].append('Accept H0: Same Distribution')\n",
    "    else:\n",
    "        data['Mass: Diff Dist'].append('True')\n",
    "        data['Mass: Reason'].append('Reject H0: Different distribution')\n",
    "\n",
    "\n",
    "outputDf = pd.DataFrame(data)\n",
    "outputDf.to_csv('ttest_results.csv')"
   ]
  },
  {
   "cell_type": "code",
   "execution_count": null,
   "metadata": {},
   "outputs": [],
   "source": []
  }
 ]
}