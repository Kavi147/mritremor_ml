{
 "metadata": {
  "language_info": {
   "codemirror_mode": {
    "name": "ipython",
    "version": 3
   },
   "file_extension": ".py",
   "mimetype": "text/x-python",
   "name": "python",
   "nbconvert_exporter": "python",
   "pygments_lexer": "ipython3",
   "version": "3.8.5-final"
  },
  "orig_nbformat": 2,
  "kernelspec": {
   "name": "python3",
   "display_name": "Python 3",
   "language": "python"
  }
 },
 "nbformat": 4,
 "nbformat_minor": 2,
 "cells": [
  {
   "cell_type": "code",
   "execution_count": 1,
   "metadata": {},
   "outputs": [],
   "source": [
    "import pandas as pd\n",
    "import plotly.express as px\n",
    "import os\n",
    "\n",
    "ROOT_DIR = 'Controls'\n",
    "\n",
    "all_controls = os.listdir(f'{ROOT_DIR}')\n",
    "\n",
    "volumeData = []\n",
    "columns = ['Control', 'LabelValue', 'Volume', 'Mass']\n",
    "\n",
    "# looping through all the files to get the labelValue and then Volume\n",
    "# so we can build a dataframe with this data for further processing\n",
    "for _file in all_controls:\n",
    "    control_id = _file.split(\".\")[0][5:] # ex: s3571P\n",
    "    \n",
    "    # read the csv file into df\n",
    "    df = pd.read_csv(f'{ROOT_DIR}/{_file}')\n",
    "    \n",
    "    df = df.drop(0)\n",
    "\n",
    "    _filtered_df = df[['LabelValue', 'Volume', 'Mass']]\n",
    "    _filtered_df['Control'] = control_id\n",
    "\n",
    "    volumeData.append(_filtered_df)\n",
    "\n",
    "\n",
    "# now we have all \n",
    "fullData = pd.concat(volumeData, axis=0)\n",
    "\n",
    "fullData.to_csv('full_control_data.csv')"
   ]
  },
  {
   "cell_type": "code",
   "execution_count": 4,
   "metadata": {
    "tags": []
   },
   "outputs": [
    {
     "output_type": "execute_result",
     "data": {
      "text/plain": [
       "    LabelValue   MeanVolume    MeanMass\n",
       "0       1002.0   472.222222    7.903046\n",
       "1       1003.0  2334.852941   61.818587\n",
       "2       1005.0  1311.597222   27.038362\n",
       "3       1006.0  1624.791667   26.986743\n",
       "4       1007.0  5040.763889  153.421287\n",
       "..         ...          ...         ...\n",
       "57      2029.0  6485.902778  176.694987\n",
       "58      2030.0  7016.597222  235.631141\n",
       "59      2031.0  4005.902778  119.755424\n",
       "60      2034.0   189.027778    2.622922\n",
       "61      2035.0  1049.930556   18.690543\n",
       "\n",
       "[62 rows x 3 columns]"
      ],
      "text/html": "<div>\n<style scoped>\n    .dataframe tbody tr th:only-of-type {\n        vertical-align: middle;\n    }\n\n    .dataframe tbody tr th {\n        vertical-align: top;\n    }\n\n    .dataframe thead th {\n        text-align: right;\n    }\n</style>\n<table border=\"1\" class=\"dataframe\">\n  <thead>\n    <tr style=\"text-align: right;\">\n      <th></th>\n      <th>LabelValue</th>\n      <th>MeanVolume</th>\n      <th>MeanMass</th>\n    </tr>\n  </thead>\n  <tbody>\n    <tr>\n      <th>0</th>\n      <td>1002.0</td>\n      <td>472.222222</td>\n      <td>7.903046</td>\n    </tr>\n    <tr>\n      <th>1</th>\n      <td>1003.0</td>\n      <td>2334.852941</td>\n      <td>61.818587</td>\n    </tr>\n    <tr>\n      <th>2</th>\n      <td>1005.0</td>\n      <td>1311.597222</td>\n      <td>27.038362</td>\n    </tr>\n    <tr>\n      <th>3</th>\n      <td>1006.0</td>\n      <td>1624.791667</td>\n      <td>26.986743</td>\n    </tr>\n    <tr>\n      <th>4</th>\n      <td>1007.0</td>\n      <td>5040.763889</td>\n      <td>153.421287</td>\n    </tr>\n    <tr>\n      <th>...</th>\n      <td>...</td>\n      <td>...</td>\n      <td>...</td>\n    </tr>\n    <tr>\n      <th>57</th>\n      <td>2029.0</td>\n      <td>6485.902778</td>\n      <td>176.694987</td>\n    </tr>\n    <tr>\n      <th>58</th>\n      <td>2030.0</td>\n      <td>7016.597222</td>\n      <td>235.631141</td>\n    </tr>\n    <tr>\n      <th>59</th>\n      <td>2031.0</td>\n      <td>4005.902778</td>\n      <td>119.755424</td>\n    </tr>\n    <tr>\n      <th>60</th>\n      <td>2034.0</td>\n      <td>189.027778</td>\n      <td>2.622922</td>\n    </tr>\n    <tr>\n      <th>61</th>\n      <td>2035.0</td>\n      <td>1049.930556</td>\n      <td>18.690543</td>\n    </tr>\n  </tbody>\n</table>\n<p>62 rows × 3 columns</p>\n</div>"
     },
     "metadata": {},
     "execution_count": 4
    }
   ],
   "source": [
    "df = pd.read_csv('full_control_data.csv')\n",
    "\n",
    "labelValues = df.LabelValue.unique()\n",
    "\n",
    "meanValues = {\n",
    "    'LabelValue': [],\n",
    "    'MeanVolume': [],\n",
    "    'MeanMass': [],\n",
    "}\n",
    "\n",
    "for val in labelValues:\n",
    "\n",
    "    selected = df[df['LabelValue'] == val]\n",
    "    meanValues['LabelValue'].append(val)\n",
    "    meanValues['MeanVolume'].append(selected['Volume'].mean())\n",
    "    meanValues['MeanMass'].append(selected['Mass'].mean())\n",
    "\n",
    "meanValuesDf = pd.DataFrame(meanValues)\n",
    "\n",
    "meanValuesDf.to_csv('all_controls_mean_values.csv')\n",
    "meanValuesDf"
   ]
  },
  {
   "cell_type": "code",
   "execution_count": null,
   "metadata": {},
   "outputs": [],
   "source": []
  }
 ]
}