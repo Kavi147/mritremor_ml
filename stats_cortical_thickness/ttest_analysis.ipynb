{
 "metadata": {
  "language_info": {
   "codemirror_mode": {
    "name": "ipython",
    "version": 3
   },
   "file_extension": ".py",
   "mimetype": "text/x-python",
   "name": "python",
   "nbconvert_exporter": "python",
   "pygments_lexer": "ipython3",
   "version": "3.8.5-final"
  },
  "orig_nbformat": 2,
  "kernelspec": {
   "name": "python3",
   "display_name": "Python 3",
   "language": "python"
  }
 },
 "nbformat": 4,
 "nbformat_minor": 2,
 "cells": [
  {
   "cell_type": "code",
   "execution_count": 1,
   "metadata": {},
   "outputs": [
    {
     "output_type": "execute_result",
     "data": {
      "text/plain": [
       "    Unnamed: 0  LabelValue  Statistics         p\n",
       "0            0      1002.0    1.633779  0.110787\n",
       "1            1      1003.0   -0.343542  0.733189\n",
       "2            2      1005.0    0.383119  0.703824\n",
       "3            3      1006.0    0.979788  0.333554\n",
       "4            4      1007.0    1.561783  0.126853\n",
       "..         ...         ...         ...       ...\n",
       "57          57      2029.0   -1.171337  0.248952\n",
       "58          58      2030.0   -0.654398  0.516903\n",
       "59          59      2031.0   -0.286112  0.776388\n",
       "60          60      2034.0    2.503432  0.016840\n",
       "61          61      2035.0    0.742424  0.462518\n",
       "\n",
       "[62 rows x 4 columns]"
      ],
      "text/html": "<div>\n<style scoped>\n    .dataframe tbody tr th:only-of-type {\n        vertical-align: middle;\n    }\n\n    .dataframe tbody tr th {\n        vertical-align: top;\n    }\n\n    .dataframe thead th {\n        text-align: right;\n    }\n</style>\n<table border=\"1\" class=\"dataframe\">\n  <thead>\n    <tr style=\"text-align: right;\">\n      <th></th>\n      <th>Unnamed: 0</th>\n      <th>LabelValue</th>\n      <th>Statistics</th>\n      <th>p</th>\n    </tr>\n  </thead>\n  <tbody>\n    <tr>\n      <th>0</th>\n      <td>0</td>\n      <td>1002.0</td>\n      <td>1.633779</td>\n      <td>0.110787</td>\n    </tr>\n    <tr>\n      <th>1</th>\n      <td>1</td>\n      <td>1003.0</td>\n      <td>-0.343542</td>\n      <td>0.733189</td>\n    </tr>\n    <tr>\n      <th>2</th>\n      <td>2</td>\n      <td>1005.0</td>\n      <td>0.383119</td>\n      <td>0.703824</td>\n    </tr>\n    <tr>\n      <th>3</th>\n      <td>3</td>\n      <td>1006.0</td>\n      <td>0.979788</td>\n      <td>0.333554</td>\n    </tr>\n    <tr>\n      <th>4</th>\n      <td>4</td>\n      <td>1007.0</td>\n      <td>1.561783</td>\n      <td>0.126853</td>\n    </tr>\n    <tr>\n      <th>...</th>\n      <td>...</td>\n      <td>...</td>\n      <td>...</td>\n      <td>...</td>\n    </tr>\n    <tr>\n      <th>57</th>\n      <td>57</td>\n      <td>2029.0</td>\n      <td>-1.171337</td>\n      <td>0.248952</td>\n    </tr>\n    <tr>\n      <th>58</th>\n      <td>58</td>\n      <td>2030.0</td>\n      <td>-0.654398</td>\n      <td>0.516903</td>\n    </tr>\n    <tr>\n      <th>59</th>\n      <td>59</td>\n      <td>2031.0</td>\n      <td>-0.286112</td>\n      <td>0.776388</td>\n    </tr>\n    <tr>\n      <th>60</th>\n      <td>60</td>\n      <td>2034.0</td>\n      <td>2.503432</td>\n      <td>0.016840</td>\n    </tr>\n    <tr>\n      <th>61</th>\n      <td>61</td>\n      <td>2035.0</td>\n      <td>0.742424</td>\n      <td>0.462518</td>\n    </tr>\n  </tbody>\n</table>\n<p>62 rows × 4 columns</p>\n</div>"
     },
     "metadata": {},
     "execution_count": 1
    }
   ],
   "source": [
    "import pandas as pd\n",
    "import plotly.express as px\n",
    "\n",
    "ttestDf = pd.read_csv('ttest_results.csv')\n",
    "\n",
    "ttestDf"
   ]
  },
  {
   "cell_type": "code",
   "execution_count": null,
   "metadata": {},
   "outputs": [],
   "source": [
    "# check of p is greater than alpha value (0.05)\n",
    "\n"
   ]
  }
 ]
}